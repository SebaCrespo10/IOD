{
 "cells": [
  {
   "cell_type": "code",
   "execution_count": 3,
   "id": "98a1e9c6-eaf1-483b-9241-b10d9c29b26d",
   "metadata": {},
   "outputs": [],
   "source": [
    "import pandas as pd"
   ]
  },
  {
   "cell_type": "code",
   "execution_count": 5,
   "id": "aa6d90d7-0605-4ec0-9396-b3aa1d7f7335",
   "metadata": {},
   "outputs": [],
   "source": [
    "df = pd.read_csv('football_transfers_2021.csv')"
   ]
  },
  {
   "cell_type": "code",
   "execution_count": 6,
   "id": "e426e003-c893-409f-bc61-4a106f9bb101",
   "metadata": {},
   "outputs": [
    {
     "data": {
      "text/html": [
       "<div>\n",
       "<style scoped>\n",
       "    .dataframe tbody tr th:only-of-type {\n",
       "        vertical-align: middle;\n",
       "    }\n",
       "\n",
       "    .dataframe tbody tr th {\n",
       "        vertical-align: top;\n",
       "    }\n",
       "\n",
       "    .dataframe thead th {\n",
       "        text-align: right;\n",
       "    }\n",
       "</style>\n",
       "<table border=\"1\" class=\"dataframe\">\n",
       "  <thead>\n",
       "    <tr style=\"text-align: right;\">\n",
       "      <th></th>\n",
       "      <th>player_name</th>\n",
       "      <th>position</th>\n",
       "      <th>age</th>\n",
       "      <th>team_origin</th>\n",
       "      <th>country_origin</th>\n",
       "      <th>league_origin</th>\n",
       "      <th>team_dest</th>\n",
       "      <th>country_dest</th>\n",
       "      <th>league_dest</th>\n",
       "      <th>transfer_fee</th>\n",
       "      <th>date</th>\n",
       "    </tr>\n",
       "  </thead>\n",
       "  <tbody>\n",
       "    <tr>\n",
       "      <th>0</th>\n",
       "      <td>Dominik Szoboszlai</td>\n",
       "      <td>Left Winger</td>\n",
       "      <td>20.0</td>\n",
       "      <td>RB Salzburg</td>\n",
       "      <td>Austria</td>\n",
       "      <td>Bundesliga</td>\n",
       "      <td>RB Leipzig</td>\n",
       "      <td>Germany</td>\n",
       "      <td>Bundesliga</td>\n",
       "      <td>€22.00m</td>\n",
       "      <td>2021-01-01</td>\n",
       "    </tr>\n",
       "    <tr>\n",
       "      <th>1</th>\n",
       "      <td>Filip Stevanovic</td>\n",
       "      <td>Left Winger</td>\n",
       "      <td>18.0</td>\n",
       "      <td>Partizan</td>\n",
       "      <td>Serbia</td>\n",
       "      <td>Super liga Srbije</td>\n",
       "      <td>Man City</td>\n",
       "      <td>England</td>\n",
       "      <td>Premier League</td>\n",
       "      <td>€8.50m</td>\n",
       "      <td>2021-01-01</td>\n",
       "    </tr>\n",
       "    <tr>\n",
       "      <th>2</th>\n",
       "      <td>Brenden Aaronson</td>\n",
       "      <td>Attacking Midfield</td>\n",
       "      <td>20.0</td>\n",
       "      <td>Philadelphia</td>\n",
       "      <td>United States</td>\n",
       "      <td>MLS</td>\n",
       "      <td>RB Salzburg</td>\n",
       "      <td>Austria</td>\n",
       "      <td>Bundesliga</td>\n",
       "      <td>€5.45m</td>\n",
       "      <td>2021-01-01</td>\n",
       "    </tr>\n",
       "    <tr>\n",
       "      <th>3</th>\n",
       "      <td>Víctor Dávila</td>\n",
       "      <td>Centre-Forward</td>\n",
       "      <td>23.0</td>\n",
       "      <td>CF Pachuca</td>\n",
       "      <td>Mexico</td>\n",
       "      <td>Liga MX Clausura</td>\n",
       "      <td>León</td>\n",
       "      <td>Mexico</td>\n",
       "      <td>Liga MX Clausura</td>\n",
       "      <td>€4.50m</td>\n",
       "      <td>2021-01-01</td>\n",
       "    </tr>\n",
       "    <tr>\n",
       "      <th>4</th>\n",
       "      <td>Carlos González</td>\n",
       "      <td>Centre-Forward</td>\n",
       "      <td>27.0</td>\n",
       "      <td>UNAM Pumas</td>\n",
       "      <td>Mexico</td>\n",
       "      <td>Liga MX Clausura</td>\n",
       "      <td>Tigres UANL</td>\n",
       "      <td>Mexico</td>\n",
       "      <td>Liga MX Clausura</td>\n",
       "      <td>€4.48m</td>\n",
       "      <td>2021-01-01</td>\n",
       "    </tr>\n",
       "  </tbody>\n",
       "</table>\n",
       "</div>"
      ],
      "text/plain": [
       "          player_name            position   age   team_origin country_origin  \\\n",
       "0  Dominik Szoboszlai         Left Winger  20.0   RB Salzburg        Austria   \n",
       "1    Filip Stevanovic         Left Winger  18.0      Partizan         Serbia   \n",
       "2    Brenden Aaronson  Attacking Midfield  20.0  Philadelphia  United States   \n",
       "3       Víctor Dávila      Centre-Forward  23.0    CF Pachuca         Mexico   \n",
       "4     Carlos González      Centre-Forward  27.0    UNAM Pumas         Mexico   \n",
       "\n",
       "       league_origin    team_dest country_dest       league_dest transfer_fee  \\\n",
       "0         Bundesliga   RB Leipzig      Germany        Bundesliga      €22.00m   \n",
       "1  Super liga Srbije     Man City      England    Premier League       €8.50m   \n",
       "2                MLS  RB Salzburg      Austria        Bundesliga       €5.45m   \n",
       "3   Liga MX Clausura         León       Mexico  Liga MX Clausura       €4.50m   \n",
       "4   Liga MX Clausura  Tigres UANL       Mexico  Liga MX Clausura       €4.48m   \n",
       "\n",
       "         date  \n",
       "0  2021-01-01  \n",
       "1  2021-01-01  \n",
       "2  2021-01-01  \n",
       "3  2021-01-01  \n",
       "4  2021-01-01  "
      ]
     },
     "execution_count": 6,
     "metadata": {},
     "output_type": "execute_result"
    }
   ],
   "source": [
    "df.head()"
   ]
  },
  {
   "cell_type": "code",
   "execution_count": 7,
   "id": "619171c1-e782-4aa5-a3bb-4d52efbb3486",
   "metadata": {},
   "outputs": [
    {
     "data": {
      "text/plain": [
       "Index(['player_name', 'position', 'age', 'team_origin', 'country_origin',\n",
       "       'league_origin', 'team_dest', 'country_dest', 'league_dest',\n",
       "       'transfer_fee', 'date'],\n",
       "      dtype='object')"
      ]
     },
     "execution_count": 7,
     "metadata": {},
     "output_type": "execute_result"
    }
   ],
   "source": [
    "df.columns"
   ]
  },
  {
   "cell_type": "code",
   "execution_count": 8,
   "id": "e076837b-5677-4d44-a09e-ff1430c70646",
   "metadata": {},
   "outputs": [
    {
     "data": {
      "text/plain": [
       "(65489, 11)"
      ]
     },
     "execution_count": 8,
     "metadata": {},
     "output_type": "execute_result"
    }
   ],
   "source": [
    "df.shape"
   ]
  },
  {
   "cell_type": "code",
   "execution_count": null,
   "id": "4c9eb82c-f157-40cd-b1ee-6aebbb8334ea",
   "metadata": {},
   "outputs": [],
   "source": []
  }
 ],
 "metadata": {
  "kernelspec": {
   "display_name": "Python 3 (ipykernel)",
   "language": "python",
   "name": "python3"
  },
  "language_info": {
   "codemirror_mode": {
    "name": "ipython",
    "version": 3
   },
   "file_extension": ".py",
   "mimetype": "text/x-python",
   "name": "python",
   "nbconvert_exporter": "python",
   "pygments_lexer": "ipython3",
   "version": "3.9.13"
  }
 },
 "nbformat": 4,
 "nbformat_minor": 5
}
